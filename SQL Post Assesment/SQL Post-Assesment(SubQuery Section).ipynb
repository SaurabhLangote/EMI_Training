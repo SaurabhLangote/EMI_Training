{
    "metadata": {
        "kernelspec": {
            "name": "SQL",
            "display_name": "SQL",
            "language": "sql"
        },
        "language_info": {
            "name": "sql",
            "version": ""
        }
    },
    "nbformat_minor": 2,
    "nbformat": 4,
    "cells": [
        {
            "cell_type": "code",
            "source": [
                "--1\r\n",
                "select last_name, hire_date from employees where department_id in (select departments.department_id from departments where department_id=8)"
            ],
            "metadata": {
                "azdata_cell_guid": "ec1bba2a-6245-4173-a497-bf8494ea8e96",
                "language": "sql"
            },
            "outputs": [
                {
                    "output_type": "display_data",
                    "data": {
                        "text/html": "(6 rows affected)"
                    },
                    "metadata": {}
                },
                {
                    "output_type": "display_data",
                    "data": {
                        "text/html": "Total execution time: 00:00:00.044"
                    },
                    "metadata": {}
                },
                {
                    "output_type": "execute_result",
                    "execution_count": 1,
                    "data": {
                        "application/vnd.dataresource+json": {
                            "schema": {
                                "fields": [
                                    {
                                        "name": "last_name"
                                    },
                                    {
                                        "name": "hire_date"
                                    }
                                ]
                            },
                            "data": [
                                {
                                    "0": "Russell",
                                    "1": "1996-10-01"
                                },
                                {
                                    "0": "Partners",
                                    "1": "1997-01-05"
                                },
                                {
                                    "0": "Taylor",
                                    "1": "1998-03-24"
                                },
                                {
                                    "0": "Livingston",
                                    "1": "1998-04-23"
                                },
                                {
                                    "0": "Grant",
                                    "1": "1999-05-24"
                                },
                                {
                                    "0": "Johnson",
                                    "1": "2000-01-04"
                                }
                            ]
                        },
                        "text/html": "<table><tr><th>last_name</th><th>hire_date</th></tr><tr><td>Russell</td><td>1996-10-01</td></tr><tr><td>Partners</td><td>1997-01-05</td></tr><tr><td>Taylor</td><td>1998-03-24</td></tr><tr><td>Livingston</td><td>1998-04-23</td></tr><tr><td>Grant</td><td>1999-05-24</td></tr><tr><td>Johnson</td><td>2000-01-04</td></tr></table>"
                    },
                    "metadata": {}
                }
            ],
            "execution_count": 1
        },
        {
            "cell_type": "code",
            "source": [
                "--2\r\n",
                "select Employee_Id, First_Name, Salary from employees where salary in (select salary from employees where salary >= 8200) order by salary asc"
            ],
            "metadata": {
                "language": "sql",
                "azdata_cell_guid": "348c9566-a94c-4123-a849-ac32fd648aa9"
            },
            "outputs": [
                {
                    "output_type": "display_data",
                    "data": {
                        "text/html": "(17 rows affected)"
                    },
                    "metadata": {}
                },
                {
                    "output_type": "display_data",
                    "data": {
                        "text/html": "Total execution time: 00:00:00.005"
                    },
                    "metadata": {}
                },
                {
                    "output_type": "execute_result",
                    "execution_count": 3,
                    "data": {
                        "application/vnd.dataresource+json": {
                            "schema": {
                                "fields": [
                                    {
                                        "name": "Employee_Id"
                                    },
                                    {
                                        "name": "First_Name"
                                    },
                                    {
                                        "name": "Salary"
                                    }
                                ]
                            },
                            "data": [
                                {
                                    "0": "110",
                                    "1": "John",
                                    "2": "8200.00"
                                },
                                {
                                    "0": "121",
                                    "1": "Adam",
                                    "2": "8200.00"
                                },
                                {
                                    "0": "206",
                                    "1": "William",
                                    "2": "8300.00"
                                },
                                {
                                    "0": "177",
                                    "1": "Jack",
                                    "2": "8400.00"
                                },
                                {
                                    "0": "176",
                                    "1": "Jonathon",
                                    "2": "8600.00"
                                },
                                {
                                    "0": "103",
                                    "1": "Alexander",
                                    "2": "9000.00"
                                },
                                {
                                    "0": "109",
                                    "1": "Daniel",
                                    "2": "9000.00"
                                },
                                {
                                    "0": "204",
                                    "1": "Hermann",
                                    "2": "10000.00"
                                },
                                {
                                    "0": "114",
                                    "1": "Den",
                                    "2": "11000.00"
                                },
                                {
                                    "0": "108",
                                    "1": "Nancy",
                                    "2": "12000.00"
                                },
                                {
                                    "0": "205",
                                    "1": "Shelley",
                                    "2": "12000.00"
                                },
                                {
                                    "0": "201",
                                    "1": "Michael",
                                    "2": "13000.00"
                                },
                                {
                                    "0": "146",
                                    "1": "Karen",
                                    "2": "13500.00"
                                },
                                {
                                    "0": "145",
                                    "1": "John",
                                    "2": "14000.00"
                                },
                                {
                                    "0": "101",
                                    "1": "Neena",
                                    "2": "17000.00"
                                },
                                {
                                    "0": "102",
                                    "1": "Lex",
                                    "2": "17000.00"
                                },
                                {
                                    "0": "100",
                                    "1": "Steven",
                                    "2": "24000.00"
                                }
                            ]
                        },
                        "text/html": "<table><tr><th>Employee_Id</th><th>First_Name</th><th>Salary</th></tr><tr><td>110</td><td>John</td><td>8200.00</td></tr><tr><td>121</td><td>Adam</td><td>8200.00</td></tr><tr><td>206</td><td>William</td><td>8300.00</td></tr><tr><td>177</td><td>Jack</td><td>8400.00</td></tr><tr><td>176</td><td>Jonathon</td><td>8600.00</td></tr><tr><td>103</td><td>Alexander</td><td>9000.00</td></tr><tr><td>109</td><td>Daniel</td><td>9000.00</td></tr><tr><td>204</td><td>Hermann</td><td>10000.00</td></tr><tr><td>114</td><td>Den</td><td>11000.00</td></tr><tr><td>108</td><td>Nancy</td><td>12000.00</td></tr><tr><td>205</td><td>Shelley</td><td>12000.00</td></tr><tr><td>201</td><td>Michael</td><td>13000.00</td></tr><tr><td>146</td><td>Karen</td><td>13500.00</td></tr><tr><td>145</td><td>John</td><td>14000.00</td></tr><tr><td>101</td><td>Neena</td><td>17000.00</td></tr><tr><td>102</td><td>Lex</td><td>17000.00</td></tr><tr><td>100</td><td>Steven</td><td>24000.00</td></tr></table>"
                    },
                    "metadata": {}
                }
            ],
            "execution_count": 3
        },
        {
            "cell_type": "code",
            "source": [
                "--3\r\n",
                "SELECT employee_id AS 'Employee Number' ,Last_Name from employees where employee_id in (select employee_id from employees where employee_id in(103,105,112,118,122,145))"
            ],
            "metadata": {
                "language": "sql",
                "azdata_cell_guid": "ca7e4009-d775-4169-a04a-367377c6cf6f"
            },
            "outputs": [
                {
                    "output_type": "display_data",
                    "data": {
                        "text/html": "(6 rows affected)"
                    },
                    "metadata": {}
                },
                {
                    "output_type": "display_data",
                    "data": {
                        "text/html": "Total execution time: 00:00:00.006"
                    },
                    "metadata": {}
                },
                {
                    "output_type": "execute_result",
                    "execution_count": 5,
                    "data": {
                        "application/vnd.dataresource+json": {
                            "schema": {
                                "fields": [
                                    {
                                        "name": "Employee Number"
                                    },
                                    {
                                        "name": "Last_Name"
                                    }
                                ]
                            },
                            "data": [
                                {
                                    "0": "103",
                                    "1": "Hunold"
                                },
                                {
                                    "0": "105",
                                    "1": "Austin"
                                },
                                {
                                    "0": "112",
                                    "1": "Urman"
                                },
                                {
                                    "0": "118",
                                    "1": "Himuro"
                                },
                                {
                                    "0": "122",
                                    "1": "Kaufling"
                                },
                                {
                                    "0": "145",
                                    "1": "Russell"
                                }
                            ]
                        },
                        "text/html": "<table><tr><th>Employee Number</th><th>Last_Name</th></tr><tr><td>103</td><td>Hunold</td></tr><tr><td>105</td><td>Austin</td></tr><tr><td>112</td><td>Urman</td></tr><tr><td>118</td><td>Himuro</td></tr><tr><td>122</td><td>Kaufling</td></tr><tr><td>145</td><td>Russell</td></tr></table>"
                    },
                    "metadata": {}
                }
            ],
            "execution_count": 5
        },
        {
            "cell_type": "code",
            "source": [
                "--4\r\n",
                "select Last_Name, Job_Id, Department_Id from employees where employee_id in (select employee_id from employees where employee_id=203) "
            ],
            "metadata": {
                "language": "sql",
                "azdata_cell_guid": "854218ad-4528-4206-8659-48b117e596c4"
            },
            "outputs": [
                {
                    "output_type": "display_data",
                    "data": {
                        "text/html": "(1 row affected)"
                    },
                    "metadata": {}
                },
                {
                    "output_type": "display_data",
                    "data": {
                        "text/html": "Total execution time: 00:00:00.011"
                    },
                    "metadata": {}
                },
                {
                    "output_type": "execute_result",
                    "execution_count": 6,
                    "data": {
                        "application/vnd.dataresource+json": {
                            "schema": {
                                "fields": [
                                    {
                                        "name": "Last_Name"
                                    },
                                    {
                                        "name": "Job_Id"
                                    },
                                    {
                                        "name": "Department_Id"
                                    }
                                ]
                            },
                            "data": [
                                {
                                    "0": "Mavris",
                                    "1": "8",
                                    "2": "4"
                                }
                            ]
                        },
                        "text/html": "<table><tr><th>Last_Name</th><th>Job_Id</th><th>Department_Id</th></tr><tr><td>Mavris</td><td>8</td><td>4</td></tr></table>"
                    },
                    "metadata": {}
                }
            ],
            "execution_count": 6
        },
        {
            "cell_type": "code",
            "source": [
                "--5\r\n",
                "select Last_Name, Salary from employees where employee_id in (select employee_id from employees where manager_id=100)"
            ],
            "metadata": {
                "language": "sql",
                "azdata_cell_guid": "2fccfb92-6e5e-440c-8e43-6fd97a31965d"
            },
            "outputs": [
                {
                    "output_type": "display_data",
                    "data": {
                        "text/html": "(14 rows affected)"
                    },
                    "metadata": {}
                },
                {
                    "output_type": "display_data",
                    "data": {
                        "text/html": "Total execution time: 00:00:00.004"
                    },
                    "metadata": {}
                },
                {
                    "output_type": "execute_result",
                    "execution_count": 8,
                    "data": {
                        "application/vnd.dataresource+json": {
                            "schema": {
                                "fields": [
                                    {
                                        "name": "Last_Name"
                                    },
                                    {
                                        "name": "Salary"
                                    }
                                ]
                            },
                            "data": [
                                {
                                    "0": "Kochhar",
                                    "1": "17000.00"
                                },
                                {
                                    "0": "De Haan",
                                    "1": "17000.00"
                                },
                                {
                                    "0": "Raphaely",
                                    "1": "11000.00"
                                },
                                {
                                    "0": "Weiss",
                                    "1": "8000.00"
                                },
                                {
                                    "0": "Fripp",
                                    "1": "8200.00"
                                },
                                {
                                    "0": "Kaufling",
                                    "1": "7900.00"
                                },
                                {
                                    "0": "Vollman",
                                    "1": "6500.00"
                                },
                                {
                                    "0": "Russell",
                                    "1": "14000.00"
                                },
                                {
                                    "0": "Partners",
                                    "1": "13500.00"
                                },
                                {
                                    "0": "Taylor",
                                    "1": "8600.00"
                                },
                                {
                                    "0": "Livingston",
                                    "1": "8400.00"
                                },
                                {
                                    "0": "Grant",
                                    "1": "7000.00"
                                },
                                {
                                    "0": "Johnson",
                                    "1": "6200.00"
                                },
                                {
                                    "0": "Hartstein",
                                    "1": "13000.00"
                                }
                            ]
                        },
                        "text/html": "<table><tr><th>Last_Name</th><th>Salary</th></tr><tr><td>Kochhar</td><td>17000.00</td></tr><tr><td>De Haan</td><td>17000.00</td></tr><tr><td>Raphaely</td><td>11000.00</td></tr><tr><td>Weiss</td><td>8000.00</td></tr><tr><td>Fripp</td><td>8200.00</td></tr><tr><td>Kaufling</td><td>7900.00</td></tr><tr><td>Vollman</td><td>6500.00</td></tr><tr><td>Russell</td><td>14000.00</td></tr><tr><td>Partners</td><td>13500.00</td></tr><tr><td>Taylor</td><td>8600.00</td></tr><tr><td>Livingston</td><td>8400.00</td></tr><tr><td>Grant</td><td>7000.00</td></tr><tr><td>Johnson</td><td>6200.00</td></tr><tr><td>Hartstein</td><td>13000.00</td></tr></table>"
                    },
                    "metadata": {}
                }
            ],
            "execution_count": 8
        },
        {
            "cell_type": "code",
            "source": [
                "--6\r\n",
                "select Department_Id as 'Department Name', Last_Name, Job_Id from employees where employee_id in(select employee_id from employees where job_id =9  ) "
            ],
            "metadata": {
                "language": "sql",
                "azdata_cell_guid": "0db6eaac-7e5e-4b4f-a2fb-4136a944da32"
            },
            "outputs": [
                {
                    "output_type": "display_data",
                    "data": {
                        "text/html": "(5 rows affected)"
                    },
                    "metadata": {}
                },
                {
                    "output_type": "display_data",
                    "data": {
                        "text/html": "Total execution time: 00:00:00.011"
                    },
                    "metadata": {}
                },
                {
                    "output_type": "execute_result",
                    "execution_count": 9,
                    "data": {
                        "application/vnd.dataresource+json": {
                            "schema": {
                                "fields": [
                                    {
                                        "name": "Department Name"
                                    },
                                    {
                                        "name": "Last_Name"
                                    },
                                    {
                                        "name": "Job_Id"
                                    }
                                ]
                            },
                            "data": [
                                {
                                    "0": "6",
                                    "1": "Hunold",
                                    "2": "9"
                                },
                                {
                                    "0": "6",
                                    "1": "Ernst",
                                    "2": "9"
                                },
                                {
                                    "0": "6",
                                    "1": "Austin",
                                    "2": "9"
                                },
                                {
                                    "0": "6",
                                    "1": "Pataballa",
                                    "2": "9"
                                },
                                {
                                    "0": "6",
                                    "1": "Lorentz",
                                    "2": "9"
                                }
                            ]
                        },
                        "text/html": "<table><tr><th>Department Name</th><th>Last_Name</th><th>Job_Id</th></tr><tr><td>6</td><td>Hunold</td><td>9</td></tr><tr><td>6</td><td>Ernst</td><td>9</td></tr><tr><td>6</td><td>Austin</td><td>9</td></tr><tr><td>6</td><td>Pataballa</td><td>9</td></tr><tr><td>6</td><td>Lorentz</td><td>9</td></tr></table>"
                    },
                    "metadata": {}
                }
            ],
            "execution_count": 9
        },
        {
            "cell_type": "code",
            "source": [
                "--7\r\n",
                "select Employee_Id,Last_Name,Salary from employees where employee_id in(select employee_id from employees where employee_id in(103,145))"
            ],
            "metadata": {
                "language": "sql",
                "azdata_cell_guid": "99455789-8181-4d24-916d-770a414671b2"
            },
            "outputs": [
                {
                    "output_type": "display_data",
                    "data": {
                        "text/html": "(2 rows affected)"
                    },
                    "metadata": {}
                },
                {
                    "output_type": "display_data",
                    "data": {
                        "text/html": "Total execution time: 00:00:00.004"
                    },
                    "metadata": {}
                },
                {
                    "output_type": "execute_result",
                    "execution_count": 10,
                    "data": {
                        "application/vnd.dataresource+json": {
                            "schema": {
                                "fields": [
                                    {
                                        "name": "Employee_Id"
                                    },
                                    {
                                        "name": "Last_Name"
                                    },
                                    {
                                        "name": "Salary"
                                    }
                                ]
                            },
                            "data": [
                                {
                                    "0": "103",
                                    "1": "Hunold",
                                    "2": "9000.00"
                                },
                                {
                                    "0": "145",
                                    "1": "Russell",
                                    "2": "14000.00"
                                }
                            ]
                        },
                        "text/html": "<table><tr><th>Employee_Id</th><th>Last_Name</th><th>Salary</th></tr><tr><td>103</td><td>Hunold</td><td>9000.00</td></tr><tr><td>145</td><td>Russell</td><td>14000.00</td></tr></table>"
                    },
                    "metadata": {}
                }
            ],
            "execution_count": 10
        },
        {
            "cell_type": "code",
            "source": [
                "--8\r\n",
                "select first_name from employees where employee_id in( select employee_id from employees where phone_number is null)"
            ],
            "metadata": {
                "language": "sql",
                "azdata_cell_guid": "33cef8a5-3f3f-4fce-bc44-17f1061889ad"
            },
            "outputs": [
                {
                    "output_type": "display_data",
                    "data": {
                        "text/html": "(6 rows affected)"
                    },
                    "metadata": {}
                },
                {
                    "output_type": "display_data",
                    "data": {
                        "text/html": "Total execution time: 00:00:00.010"
                    },
                    "metadata": {}
                },
                {
                    "output_type": "execute_result",
                    "execution_count": 11,
                    "data": {
                        "application/vnd.dataresource+json": {
                            "schema": {
                                "fields": [
                                    {
                                        "name": "first_name"
                                    }
                                ]
                            },
                            "data": [
                                {
                                    "0": "John"
                                },
                                {
                                    "0": "Karen"
                                },
                                {
                                    "0": "Jonathon"
                                },
                                {
                                    "0": "Jack"
                                },
                                {
                                    "0": "Kimberely"
                                },
                                {
                                    "0": "Charles"
                                }
                            ]
                        },
                        "text/html": "<table><tr><th>first_name</th></tr><tr><td>John</td></tr><tr><td>Karen</td></tr><tr><td>Jonathon</td></tr><tr><td>Jack</td></tr><tr><td>Kimberely</td></tr><tr><td>Charles</td></tr></table>"
                    },
                    "metadata": {}
                }
            ],
            "execution_count": 11
        },
        {
            "cell_type": "code",
            "source": [
                "--9\r\n",
                "select Last_Name, Salary from employees where employee_id in (select employee_id from employees where salary >=17000)"
            ],
            "metadata": {
                "language": "sql",
                "azdata_cell_guid": "9b7bff89-e642-4cdf-9ac4-c09bcc7cfecd"
            },
            "outputs": [
                {
                    "output_type": "display_data",
                    "data": {
                        "text/html": "(3 rows affected)"
                    },
                    "metadata": {}
                },
                {
                    "output_type": "display_data",
                    "data": {
                        "text/html": "Total execution time: 00:00:00.004"
                    },
                    "metadata": {}
                },
                {
                    "output_type": "execute_result",
                    "execution_count": 12,
                    "data": {
                        "application/vnd.dataresource+json": {
                            "schema": {
                                "fields": [
                                    {
                                        "name": "Last_Name"
                                    },
                                    {
                                        "name": "Salary"
                                    }
                                ]
                            },
                            "data": [
                                {
                                    "0": "King",
                                    "1": "24000.00"
                                },
                                {
                                    "0": "Kochhar",
                                    "1": "17000.00"
                                },
                                {
                                    "0": "De Haan",
                                    "1": "17000.00"
                                }
                            ]
                        },
                        "text/html": "<table><tr><th>Last_Name</th><th>Salary</th></tr><tr><td>King</td><td>24000.00</td></tr><tr><td>Kochhar</td><td>17000.00</td></tr><tr><td>De Haan</td><td>17000.00</td></tr></table>"
                    },
                    "metadata": {}
                }
            ],
            "execution_count": 12
        },
        {
            "cell_type": "code",
            "source": [
                "--10\r\n",
                "select  First_Name, Salary, Department_Id from employees where employee_id in(select employee_id from employees where salary >=14000 and manager_id=100 ) "
            ],
            "metadata": {
                "language": "sql",
                "azdata_cell_guid": "6e09ac81-d25d-40d9-86d5-9516052d13a9"
            },
            "outputs": [
                {
                    "output_type": "display_data",
                    "data": {
                        "text/html": "(3 rows affected)"
                    },
                    "metadata": {}
                },
                {
                    "output_type": "display_data",
                    "data": {
                        "text/html": "Total execution time: 00:00:00.004"
                    },
                    "metadata": {}
                },
                {
                    "output_type": "execute_result",
                    "execution_count": 13,
                    "data": {
                        "application/vnd.dataresource+json": {
                            "schema": {
                                "fields": [
                                    {
                                        "name": "First_Name"
                                    },
                                    {
                                        "name": "Salary"
                                    },
                                    {
                                        "name": "Department_Id"
                                    }
                                ]
                            },
                            "data": [
                                {
                                    "0": "Neena",
                                    "1": "17000.00",
                                    "2": "9"
                                },
                                {
                                    "0": "Lex",
                                    "1": "17000.00",
                                    "2": "9"
                                },
                                {
                                    "0": "John",
                                    "1": "14000.00",
                                    "2": "8"
                                }
                            ]
                        },
                        "text/html": "<table><tr><th>First_Name</th><th>Salary</th><th>Department_Id</th></tr><tr><td>Neena</td><td>17000.00</td><td>9</td></tr><tr><td>Lex</td><td>17000.00</td><td>9</td></tr><tr><td>John</td><td>14000.00</td><td>8</td></tr></table>"
                    },
                    "metadata": {}
                }
            ],
            "execution_count": 13
        }
    ]
}